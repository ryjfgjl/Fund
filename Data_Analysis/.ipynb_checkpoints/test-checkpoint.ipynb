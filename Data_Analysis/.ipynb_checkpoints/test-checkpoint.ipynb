{
 "cells": [
  {
   "cell_type": "code",
   "execution_count": 1,
   "metadata": {},
   "outputs": [],
   "source": [
    "import pandas as pd\n",
    "import tushare as ts\n",
    "%matplotlib inline\n",
    "import matplotlib as mpl\n",
    "import matplotlib.pyplot as plt"
   ]
  },
  {
   "cell_type": "code",
   "execution_count": 2,
   "metadata": {},
   "outputs": [],
   "source": [
    "import pymysql\n",
    "conn = pymysql.connect(host='localhost',port=3306,db='fund',user='root',passwd='root',charset='utf8')\n",
    "def sele(sql):\n",
    "    cur = conn.cursor()\n",
    "    cur.execute(sql)\n",
    "    result = list(cur.fetchall())\n",
    "    result = [list(r) for r in result]\n",
    "    conn.commit()\n",
    "    cur.close()\n",
    "    \n",
    "    return result\n"
   ]
  },
  {
   "cell_type": "code",
   "execution_count": 40,
   "metadata": {},
   "outputs": [],
   "source": [
    "#sql = 'select id, fundCode, FSRQ, DWJZ, LJJZ, JZZZL from jzhistory where fundCode = \"260108\"'\n",
    "sql = 'select * from jzhistory where fundCode = \"260108\"'\n",
    "data = sele(sql)"
   ]
  },
  {
   "cell_type": "code",
   "execution_count": 43,
   "metadata": {},
   "outputs": [
    {
     "name": "stdout",
     "output_type": "stream",
     "text": [
      "        code       date  unitJZ  totalJZ  rate buyStatus saleStatus  red\n",
      "23    260108 2006-08-29   1.001    1.001  0.20      开放申购       开放赎回  0.0\n",
      "24    260108 2006-08-30   1.001    1.001  0.00      开放申购       开放赎回  0.0\n",
      "25    260108 2006-08-31   1.001    1.001  0.00      开放申购       开放赎回  0.0\n",
      "26    260108 2006-09-01   0.998    0.998 -0.30      开放申购       开放赎回  0.0\n",
      "27    260108 2006-09-04   1.001    1.001  0.30      开放申购       开放赎回  0.0\n",
      "28    260108 2006-09-05   1.002    1.002  0.10      开放申购       开放赎回  0.0\n",
      "29    260108 2006-09-06   1.002    1.002  0.00      开放申购       开放赎回  0.0\n",
      "30    260108 2006-09-07   0.999    0.999 -0.30      开放申购       开放赎回  0.0\n",
      "31    260108 2006-09-08   1.000    1.000  0.10      开放申购       开放赎回  0.0\n",
      "32    260108 2006-09-11   1.001    1.001  0.10      开放申购       开放赎回  0.0\n",
      "33    260108 2006-09-12   1.003    1.003  0.20      开放申购       开放赎回  0.0\n",
      "34    260108 2006-09-13   1.004    1.004  0.10      开放申购       开放赎回  0.0\n",
      "35    260108 2006-09-14   1.005    1.005  0.10      开放申购       开放赎回  0.0\n",
      "36    260108 2006-09-15   1.010    1.010  0.50      开放申购       开放赎回  0.0\n",
      "37    260108 2006-09-18   1.011    1.011  0.10      开放申购       开放赎回  0.0\n",
      "38    260108 2006-09-19   1.014    1.014  0.30      开放申购       开放赎回  0.0\n",
      "39    260108 2006-09-20   1.015    1.015  0.10      开放申购       开放赎回  0.0\n",
      "40    260108 2006-09-21   1.018    1.018  0.30      开放申购       开放赎回  0.0\n",
      "41    260108 2006-09-22   1.017    1.017 -0.10      开放申购       开放赎回  0.0\n",
      "42    260108 2006-09-25   1.015    1.015 -0.20      开放申购       开放赎回  0.0\n",
      "43    260108 2006-09-26   1.011    1.011 -0.39      开放申购       开放赎回  0.0\n",
      "44    260108 2006-09-27   1.014    1.014  0.30      开放申购       开放赎回  0.0\n",
      "45    260108 2006-09-28   1.022    1.022  0.79      开放申购       开放赎回  0.0\n",
      "46    260108 2006-09-29   1.027    1.027  0.49      开放申购       开放赎回  0.0\n",
      "48    260108 2006-10-09   1.038    1.038  1.07      开放申购       开放赎回  0.0\n",
      "49    260108 2006-10-10   1.039    1.039  0.10      开放申购       开放赎回  0.0\n",
      "50    260108 2006-10-11   1.037    1.037 -0.19      开放申购       开放赎回  0.0\n",
      "51    260108 2006-10-12   1.031    1.031 -0.58      开放申购       开放赎回  0.0\n",
      "52    260108 2006-10-13   1.032    1.032  0.10      开放申购       开放赎回  0.0\n",
      "53    260108 2006-10-16   1.024    1.024 -0.78      开放申购       开放赎回  0.0\n",
      "...      ...        ...     ...      ...   ...       ...        ...  ...\n",
      "3428  260108 2020-08-03   2.586    4.223  0.19      开放申购       开放赎回  0.0\n",
      "3429  260108 2020-08-04   2.567    4.204 -0.73      开放申购       开放赎回  0.0\n",
      "3430  260108 2020-08-05   2.584    4.221  0.66      开放申购       开放赎回  0.0\n",
      "3431  260108 2020-08-06   2.543    4.180 -1.59      开放申购       开放赎回  0.0\n",
      "3432  260108 2020-08-07   2.530    4.167 -0.51      开放申购       开放赎回  0.0\n",
      "3433  260108 2020-08-10   2.519    4.156 -0.43      开放申购       开放赎回  0.0\n",
      "3434  260108 2020-08-11   2.520    4.157  0.04      开放申购       开放赎回  0.0\n",
      "3435  260108 2020-08-12   2.481    4.118 -1.55      开放申购       开放赎回  0.0\n",
      "3436  260108 2020-08-13   2.479    4.116 -0.08      开放申购       开放赎回  0.0\n",
      "3437  260108 2020-08-14   2.532    4.169  2.14      开放申购       开放赎回  0.0\n",
      "3438  260108 2020-08-17   2.559    4.196  1.07      开放申购       开放赎回  0.0\n",
      "3439  260108 2020-08-18   2.593    4.230  1.33      开放申购       开放赎回  0.0\n",
      "3440  260108 2020-08-19   2.567    4.204 -1.00      开放申购       开放赎回  0.0\n",
      "3441  260108 2020-08-20   2.528    4.165 -1.52      开放申购       开放赎回  0.0\n",
      "3442  260108 2020-08-21   2.556    4.193  1.11      开放申购       开放赎回  0.0\n",
      "3443  260108 2020-08-24   2.593    4.230  1.45      开放申购       开放赎回  0.0\n",
      "3444  260108 2020-08-25   2.646    4.283  2.04      开放申购       开放赎回  0.0\n",
      "3445  260108 2020-08-26   2.645    4.282 -0.04      开放申购       开放赎回  0.0\n",
      "3446  260108 2020-08-27   2.681    4.318  1.36      开放申购       开放赎回  0.0\n",
      "3447  260108 2020-08-28   2.769    4.406  3.28      开放申购       开放赎回  0.0\n",
      "3448  260108 2020-08-31   2.744    4.381 -0.90      开放申购       开放赎回  0.0\n",
      "3449  260108 2020-09-01   2.757    4.394  0.47      开放申购       开放赎回  0.0\n",
      "3450  260108 2020-09-02   2.771    4.408  0.51      开放申购       开放赎回  0.0\n",
      "3451  260108 2020-09-03   2.773    4.410  0.07      开放申购       开放赎回  0.0\n",
      "3452  260108 2020-09-04   2.717    4.354 -2.02      开放申购       开放赎回  0.0\n",
      "3453  260108 2020-09-07   2.641    4.278 -2.80      开放申购       开放赎回  0.0\n",
      "3454  260108 2020-09-08   2.615    4.252 -0.98      开放申购       开放赎回  0.0\n",
      "3455  260108 2020-09-09   2.545    4.182 -2.68      开放申购       开放赎回  0.0\n",
      "3456  260108 2020-09-10   2.582    4.219  1.45      开放申购       开放赎回  0.0\n",
      "3457  260108 2020-09-11   2.622    4.259  1.55      开放申购       开放赎回  0.0\n",
      "\n",
      "[3420 rows x 8 columns]\n"
     ]
    }
   ],
   "source": [
    "jzframe = pd.DataFrame(data, \n",
    "                        columns=['id', 'code', 'date', 'unitJZ', 'totalJZ','SDATE', 'ACTUALSYI', 'NAVTYPE', 'rate',\\\n",
    "                                'buyStatus', 'saleStatus', 'FHFCZ', 'FHFCBZ', 'DTYPE', 'FHSP'])\n",
    "\n",
    "# drop saleStatus=封闭期 \n",
    "jzframe = jzframe[jzframe['saleStatus'] != '封闭期']\n",
    "\n",
    "# drop week day in 6, 7\n",
    "from datetime import datetime\n",
    "jzframe['weekday'] = jzframe['date'].apply(lambda x: datetime.weekday(datetime.strptime(x,'%Y-%m-%d'))+1)\n",
    "jzframe = jzframe.drop(index=jzframe[jzframe['weekday'].isin([6,7])].index)\n",
    "\n",
    "jzframe = jzframe[['code', 'date', 'unitJZ', 'totalJZ', 'rate',\\\n",
    "                              'buyStatus', 'saleStatus', 'FHFCZ']]\n",
    "\n",
    "# FHFCZ\n",
    "jzframe.loc[jzframe['FHFCZ']=='', 'FHFCZ'] = '0'\n",
    "# rate\n",
    "jzframe.loc[jzframe['rate']=='', 'rate'] = '0'\n",
    "\n",
    "# cover str to float\n",
    "jzframe[['unitJZ', 'totalJZ', 'rate', 'FHFCZ']] = jzframe[['unitJZ', 'totalJZ', 'rate', 'FHFCZ']].astype('float')\n",
    "\n",
    "# cover str to date\n",
    "jzframe[['date']] = jzframe[['date']].astype('datetime64')\n",
    "\n",
    "# FHFCZ\n",
    "jzframe = jzframe.rename(columns={'FHFCZ':'red'})\n",
    "\n",
    "print(jzframe)\n",
    "\n"
   ]
  },
  {
   "cell_type": "code",
   "execution_count": 42,
   "metadata": {
    "scrolled": true
   },
   "outputs": [
    {
     "data": {
      "text/plain": [
       "buyStatus\n",
       "0            1\n",
       "开放申购      3402\n",
       "暂停申购        10\n",
       "限制大额申购       7\n",
       "Name: buyStatus, dtype: int64"
      ]
     },
     "execution_count": 42,
     "metadata": {},
     "output_type": "execute_result"
    }
   ],
   "source": [
    "groups = jzframe['buyStatus'].groupby(jzframe['buyStatus'])\n",
    "#print(jzframe)\n",
    "groups.count()\n",
    "\n"
   ]
  },
  {
   "cell_type": "code",
   "execution_count": null,
   "metadata": {},
   "outputs": [],
   "source": [
    "fig = plt.figure(figsize=(15,4))\n",
    "plt.plot(jzframe['date'], jzframe['unitJZ'])\n",
    "# 旋转标签\n",
    "plt.xticks(rotation=-90)\n",
    "plt.show()\n"
   ]
  },
  {
   "cell_type": "code",
   "execution_count": 1,
   "metadata": {},
   "outputs": [
    {
     "ename": "IndentationError",
     "evalue": "expected an indented block (<ipython-input-1-ace6651ef991>, line 9)",
     "output_type": "error",
     "traceback": [
      "\u001b[0;36m  File \u001b[0;32m\"<ipython-input-1-ace6651ef991>\"\u001b[0;36m, line \u001b[0;32m9\u001b[0m\n\u001b[0;31m    num = base *\u001b[0m\n\u001b[0m                ^\u001b[0m\n\u001b[0;31mIndentationError\u001b[0m\u001b[0;31m:\u001b[0m expected an indented block\n"
     ]
    }
   ],
   "source": [
    "buy_amount = 100\n",
    "buy_rate = 0.0015\n",
    "\n",
    "def _sale_rate(day):\n",
    "    if day < 7:\n",
    "        sale_rate = 0.015\n",
    "    elif day < 365:\n",
    "        sale_rate = 0.005\n",
    "    elif day < 365*2:\n",
    "        sale_rate = 0.0025\n",
    "    else\n",
    "        sale_rate = 0.0\n",
    "    return sale_rate\n",
    "    "
   ]
  },
  {
   "cell_type": "code",
   "execution_count": null,
   "metadata": {},
   "outputs": [],
   "source": []
  }
 ],
 "metadata": {
  "kernelspec": {
   "display_name": "Python 3",
   "language": "python",
   "name": "python3"
  },
  "language_info": {
   "codemirror_mode": {
    "name": "ipython",
    "version": 3
   },
   "file_extension": ".py",
   "mimetype": "text/x-python",
   "name": "python",
   "nbconvert_exporter": "python",
   "pygments_lexer": "ipython3",
   "version": "3.7.6"
  }
 },
 "nbformat": 4,
 "nbformat_minor": 2
}

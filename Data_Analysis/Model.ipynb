{
 "cells": [
  {
   "cell_type": "code",
   "execution_count": null,
   "metadata": {},
   "outputs": [],
   "source": [
    "# Model\n",
    "# 买入卖出最佳时机\n",
    "\n",
    "# Fund Code： 260180\n",
    "\n",
    "# 1. 假设基金净值永远不变（一条直线）， 且买入卖出没有费率， 且当天买入当天即可卖出， 且当天买入当天即可查看收益\n",
    "# ==》这样无论怎样都不赚不亏\n",
    "\n",
    "# 2. 假设基金净值一天涨一天跌（破折线）且幅度一样， 且买入卖出没有费率， 且当天买入当天即可卖出， 且当天买入当天即可查看收益\n",
    "# ==》当在低点买入， 高点卖出， 就可获得正收益\n",
    "\n",
    "buy = 1000\n",
    "salerate = 0.003\n",
    "finalrate = 0.05\n",
    "\n"
   ]
  }
 ],
 "metadata": {
  "kernelspec": {
   "display_name": "Python 3",
   "language": "python",
   "name": "python3"
  },
  "language_info": {
   "codemirror_mode": {
    "name": "ipython",
    "version": 3
   },
   "file_extension": ".py",
   "mimetype": "text/x-python",
   "name": "python",
   "nbconvert_exporter": "python",
   "pygments_lexer": "ipython3",
   "version": "3.7.0"
  }
 },
 "nbformat": 4,
 "nbformat_minor": 2
}
